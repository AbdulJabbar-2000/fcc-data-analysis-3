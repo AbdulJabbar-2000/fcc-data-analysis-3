{
 "cells": [
  {
   "cell_type": "code",
   "execution_count": 16,
   "id": "e17eba9a-2cdc-4daf-bcca-180b1592a967",
   "metadata": {
    "scrolled": true
   },
   "outputs": [
    {
     "ename": "KeyError",
     "evalue": "'weight'",
     "output_type": "error",
     "traceback": [
      "\u001b[31m---------------------------------------------------------------------------\u001b[39m",
      "\u001b[31mKeyError\u001b[39m                                  Traceback (most recent call last)",
      "\u001b[36mFile \u001b[39m\u001b[32mF:\\jabbar\\Lib\\site-packages\\pandas\\core\\indexes\\base.py:3812\u001b[39m, in \u001b[36mIndex.get_loc\u001b[39m\u001b[34m(self, key)\u001b[39m\n\u001b[32m   3811\u001b[39m \u001b[38;5;28;01mtry\u001b[39;00m:\n\u001b[32m-> \u001b[39m\u001b[32m3812\u001b[39m     \u001b[38;5;28;01mreturn\u001b[39;00m \u001b[38;5;28;43mself\u001b[39;49m\u001b[43m.\u001b[49m\u001b[43m_engine\u001b[49m\u001b[43m.\u001b[49m\u001b[43mget_loc\u001b[49m\u001b[43m(\u001b[49m\u001b[43mcasted_key\u001b[49m\u001b[43m)\u001b[49m\n\u001b[32m   3813\u001b[39m \u001b[38;5;28;01mexcept\u001b[39;00m \u001b[38;5;167;01mKeyError\u001b[39;00m \u001b[38;5;28;01mas\u001b[39;00m err:\n",
      "\u001b[36mFile \u001b[39m\u001b[32mpandas/_libs/index.pyx:167\u001b[39m, in \u001b[36mpandas._libs.index.IndexEngine.get_loc\u001b[39m\u001b[34m()\u001b[39m\n",
      "\u001b[36mFile \u001b[39m\u001b[32mpandas/_libs/index.pyx:196\u001b[39m, in \u001b[36mpandas._libs.index.IndexEngine.get_loc\u001b[39m\u001b[34m()\u001b[39m\n",
      "\u001b[36mFile \u001b[39m\u001b[32mpandas/_libs/hashtable_class_helper.pxi:7088\u001b[39m, in \u001b[36mpandas._libs.hashtable.PyObjectHashTable.get_item\u001b[39m\u001b[34m()\u001b[39m\n",
      "\u001b[36mFile \u001b[39m\u001b[32mpandas/_libs/hashtable_class_helper.pxi:7096\u001b[39m, in \u001b[36mpandas._libs.hashtable.PyObjectHashTable.get_item\u001b[39m\u001b[34m()\u001b[39m\n",
      "\u001b[31mKeyError\u001b[39m: 'weight'",
      "\nThe above exception was the direct cause of the following exception:\n",
      "\u001b[31mKeyError\u001b[39m                                  Traceback (most recent call last)",
      "\u001b[36mCell\u001b[39m\u001b[36m \u001b[39m\u001b[32mIn[16]\u001b[39m\u001b[32m, line 12\u001b[39m\n\u001b[32m      8\u001b[39m df = pd.read_csv(\u001b[33m'\u001b[39m\u001b[33mmedical_examination.csv\u001b[39m\u001b[33m'\u001b[39m)\n\u001b[32m     10\u001b[39m \u001b[38;5;66;03m# Add overweight column\u001b[39;00m\n\u001b[32m     11\u001b[39m \u001b[38;5;66;03m# Agar sahi file hai, toh 'weight' aur 'height' columns mil jayenge.\u001b[39;00m\n\u001b[32m---> \u001b[39m\u001b[32m12\u001b[39m df[\u001b[33m'\u001b[39m\u001b[33moverweight\u001b[39m\u001b[33m'\u001b[39m] = (\u001b[43mdf\u001b[49m\u001b[43m[\u001b[49m\u001b[33;43m'\u001b[39;49m\u001b[33;43mweight\u001b[39;49m\u001b[33;43m'\u001b[39;49m\u001b[43m]\u001b[49m / ((df[\u001b[33m'\u001b[39m\u001b[33mheight\u001b[39m\u001b[33m'\u001b[39m] / \u001b[32m100\u001b[39m) ** \u001b[32m2\u001b[39m) > \u001b[32m25\u001b[39m).astype(\u001b[38;5;28mint\u001b[39m)\n\u001b[32m     14\u001b[39m \u001b[38;5;66;03m# Normalize cholesterol and gluc\u001b[39;00m\n\u001b[32m     15\u001b[39m \u001b[38;5;66;03m# Agar sahi file hai, toh 'cholesterol' aur 'gluc' columns mil jayenge.\u001b[39;00m\n\u001b[32m     16\u001b[39m df[\u001b[33m'\u001b[39m\u001b[33mcholesterol\u001b[39m\u001b[33m'\u001b[39m] = (df[\u001b[33m'\u001b[39m\u001b[33mcholesterol\u001b[39m\u001b[33m'\u001b[39m] > \u001b[32m1\u001b[39m).astype(\u001b[38;5;28mint\u001b[39m)\n",
      "\u001b[36mFile \u001b[39m\u001b[32mF:\\jabbar\\Lib\\site-packages\\pandas\\core\\frame.py:4107\u001b[39m, in \u001b[36mDataFrame.__getitem__\u001b[39m\u001b[34m(self, key)\u001b[39m\n\u001b[32m   4105\u001b[39m \u001b[38;5;28;01mif\u001b[39;00m \u001b[38;5;28mself\u001b[39m.columns.nlevels > \u001b[32m1\u001b[39m:\n\u001b[32m   4106\u001b[39m     \u001b[38;5;28;01mreturn\u001b[39;00m \u001b[38;5;28mself\u001b[39m._getitem_multilevel(key)\n\u001b[32m-> \u001b[39m\u001b[32m4107\u001b[39m indexer = \u001b[38;5;28;43mself\u001b[39;49m\u001b[43m.\u001b[49m\u001b[43mcolumns\u001b[49m\u001b[43m.\u001b[49m\u001b[43mget_loc\u001b[49m\u001b[43m(\u001b[49m\u001b[43mkey\u001b[49m\u001b[43m)\u001b[49m\n\u001b[32m   4108\u001b[39m \u001b[38;5;28;01mif\u001b[39;00m is_integer(indexer):\n\u001b[32m   4109\u001b[39m     indexer = [indexer]\n",
      "\u001b[36mFile \u001b[39m\u001b[32mF:\\jabbar\\Lib\\site-packages\\pandas\\core\\indexes\\base.py:3819\u001b[39m, in \u001b[36mIndex.get_loc\u001b[39m\u001b[34m(self, key)\u001b[39m\n\u001b[32m   3814\u001b[39m     \u001b[38;5;28;01mif\u001b[39;00m \u001b[38;5;28misinstance\u001b[39m(casted_key, \u001b[38;5;28mslice\u001b[39m) \u001b[38;5;129;01mor\u001b[39;00m (\n\u001b[32m   3815\u001b[39m         \u001b[38;5;28misinstance\u001b[39m(casted_key, abc.Iterable)\n\u001b[32m   3816\u001b[39m         \u001b[38;5;129;01mand\u001b[39;00m \u001b[38;5;28many\u001b[39m(\u001b[38;5;28misinstance\u001b[39m(x, \u001b[38;5;28mslice\u001b[39m) \u001b[38;5;28;01mfor\u001b[39;00m x \u001b[38;5;129;01min\u001b[39;00m casted_key)\n\u001b[32m   3817\u001b[39m     ):\n\u001b[32m   3818\u001b[39m         \u001b[38;5;28;01mraise\u001b[39;00m InvalidIndexError(key)\n\u001b[32m-> \u001b[39m\u001b[32m3819\u001b[39m     \u001b[38;5;28;01mraise\u001b[39;00m \u001b[38;5;167;01mKeyError\u001b[39;00m(key) \u001b[38;5;28;01mfrom\u001b[39;00m\u001b[38;5;250m \u001b[39m\u001b[34;01merr\u001b[39;00m\n\u001b[32m   3820\u001b[39m \u001b[38;5;28;01mexcept\u001b[39;00m \u001b[38;5;167;01mTypeError\u001b[39;00m:\n\u001b[32m   3821\u001b[39m     \u001b[38;5;66;03m# If we have a listlike key, _check_indexing_error will raise\u001b[39;00m\n\u001b[32m   3822\u001b[39m     \u001b[38;5;66;03m#  InvalidIndexError. Otherwise we fall through and re-raise\u001b[39;00m\n\u001b[32m   3823\u001b[39m     \u001b[38;5;66;03m#  the TypeError.\u001b[39;00m\n\u001b[32m   3824\u001b[39m     \u001b[38;5;28mself\u001b[39m._check_indexing_error(key)\n",
      "\u001b[31mKeyError\u001b[39m: 'weight'"
     ]
    }
   ],
   "source": [
    "import pandas as pd\n",
    "import seaborn as sns\n",
    "import matplotlib.pyplot as plt\n",
    "import numpy as np\n",
    "\n",
    "# Load the data\n",
    "# Yahan sirf yeh confirm karna hai ke 'medical_examination.csv' asal data file hai.\n",
    "df = pd.read_csv('medical_examination.csv')\n",
    "\n",
    "# Add overweight column\n",
    "# Agar sahi file hai, toh 'weight' aur 'height' columns mil jayenge.\n",
    "df['overweight'] = (df['weight'] / ((df['height'] / 100) ** 2) > 25).astype(int)\n",
    "\n",
    "# Normalize cholesterol and gluc\n",
    "# Agar sahi file hai, toh 'cholesterol' aur 'gluc' columns mil jayenge.\n",
    "df['cholesterol'] = (df['cholesterol'] > 1).astype(int)\n",
    "df['gluc'] = (df['gluc'] > 1).astype(int)\n",
    "\n",
    "def draw_cat_plot():\n",
    "    # Create DataFrame for cat plot\n",
    "    df_cat = pd.melt(df, id_vars=['cardio'],\n",
    "                    value_vars=['cholesterol', 'gluc', 'smoke', 'alco', 'active', 'overweight'])\n",
    "\n",
    "    # Group and reformat the data\n",
    "    df_cat = df_cat.groupby(['cardio', 'variable', 'value']).size().reset_index(name='total')\n",
    "\n",
    "    # Draw the catplot\n",
    "    fig = sns.catplot(x='variable', y='total', hue='value', col='cardio',\n",
    "                      data=df_cat, kind='bar').fig\n",
    "\n",
    "    return fig\n",
    "\n",
    "def draw_heat_map():\n",
    "    # Clean the data\n",
    "    # 'ap_lo', 'ap_hi', 'height', aur 'weight' columns maujood honge.\n",
    "    df_heat = df[\n",
    "        (df['ap_lo'] <= df['ap_hi']) &\n",
    "        (df['height'] >= df['height'].quantile(0.025)) &\n",
    "        (df['height'] <= df['height'].quantile(0.975)) &\n",
    "        (df['weight'] >= df['weight'].quantile(0.025)) &\n",
    "        (df['weight'] <= df['weight'].quantile(0.975))\n",
    "    ]\n",
    "\n",
    "    # Calculate the correlation matrix\n",
    "    corr = df_heat.corr()\n",
    "\n",
    "    # Generate a mask for the upper triangle\n",
    "    mask = np.triu(np.ones_like(corr, dtype=bool))\n",
    "\n",
    "    # Set up the matplotlib figure\n",
    "    fig, ax = plt.subplots(figsize=(12, 10))\n",
    "\n",
    "    # Draw the heatmap\n",
    "    sns.heatmap(corr, mask=mask, annot=True, fmt='.1f', center=0, ax=ax)\n",
    "\n",
    "    return fig\n",
    "\n",
    "# Aap in functions ko call karke plots generate kar sakte hain:\n",
    "# cat_plot_figure = draw_cat_plot()\n",
    "# plt.show() # To display the cat plot\n",
    "\n",
    "# heat_map_figure = draw_heat_map()\n",
    "# plt.show() # To display the heat map"
   ]
  },
  {
   "cell_type": "code",
   "execution_count": 2,
   "id": "67f5f071-bb06-4853-8b25-99672742f7d8",
   "metadata": {
    "scrolled": true
   },
   "outputs": [
    {
     "data": {
      "text/html": [
       "<div>\n",
       "<style scoped>\n",
       "    .dataframe tbody tr th:only-of-type {\n",
       "        vertical-align: middle;\n",
       "    }\n",
       "\n",
       "    .dataframe tbody tr th {\n",
       "        vertical-align: top;\n",
       "    }\n",
       "\n",
       "    .dataframe thead th {\n",
       "        text-align: right;\n",
       "    }\n",
       "</style>\n",
       "<table border=\"1\" class=\"dataframe\">\n",
       "  <thead>\n",
       "    <tr style=\"text-align: right;\">\n",
       "      <th></th>\n",
       "      <th>Feature</th>\n",
       "      <th>Variable Type</th>\n",
       "      <th>Variable</th>\n",
       "      <th>Value Type</th>\n",
       "    </tr>\n",
       "  </thead>\n",
       "  <tbody>\n",
       "    <tr>\n",
       "      <th>0</th>\n",
       "      <td>Age</td>\n",
       "      <td>Objective Feature</td>\n",
       "      <td>age</td>\n",
       "      <td>int (days)</td>\n",
       "    </tr>\n",
       "    <tr>\n",
       "      <th>1</th>\n",
       "      <td>Height</td>\n",
       "      <td>Objective Feature</td>\n",
       "      <td>height</td>\n",
       "      <td>int (cm)</td>\n",
       "    </tr>\n",
       "    <tr>\n",
       "      <th>2</th>\n",
       "      <td>Weight</td>\n",
       "      <td>Objective Feature</td>\n",
       "      <td>weight</td>\n",
       "      <td>float (kg)</td>\n",
       "    </tr>\n",
       "    <tr>\n",
       "      <th>3</th>\n",
       "      <td>Gender</td>\n",
       "      <td>Objective Feature</td>\n",
       "      <td>gender</td>\n",
       "      <td>categorical code</td>\n",
       "    </tr>\n",
       "    <tr>\n",
       "      <th>4</th>\n",
       "      <td>Systolic blood pressure</td>\n",
       "      <td>Examination Feature</td>\n",
       "      <td>ap_hi</td>\n",
       "      <td>int</td>\n",
       "    </tr>\n",
       "  </tbody>\n",
       "</table>\n",
       "</div>"
      ],
      "text/plain": [
       "                   Feature        Variable Type Variable        Value Type\n",
       "0                      Age    Objective Feature      age        int (days)\n",
       "1                   Height    Objective Feature   height          int (cm)\n",
       "2                   Weight    Objective Feature   weight        float (kg)\n",
       "3                   Gender    Objective Feature   gender  categorical code\n",
       "4  Systolic blood pressure  Examination Feature    ap_hi               int"
      ]
     },
     "execution_count": 2,
     "metadata": {},
     "output_type": "execute_result"
    }
   ],
   "source": [
    "df = pd.read_csv('medical_examination.csv')\n",
    "df.head()"
   ]
  },
  {
   "cell_type": "code",
   "execution_count": 10,
   "id": "95a8079c-cddf-44f1-b90d-26c0d6ea428b",
   "metadata": {},
   "outputs": [
    {
     "data": {
      "text/plain": [
       "Index(['Feature', 'Variable Type', 'Variable', 'Value Type'], dtype='object')"
      ]
     },
     "execution_count": 10,
     "metadata": {},
     "output_type": "execute_result"
    }
   ],
   "source": [
    "df.columns"
   ]
  },
  {
   "cell_type": "code",
   "execution_count": null,
   "id": "7bda7fe9-9463-4919-ab0c-bc942641b601",
   "metadata": {},
   "outputs": [],
   "source": []
  }
 ],
 "metadata": {
  "kernelspec": {
   "display_name": "Python 3 (ipykernel)",
   "language": "python",
   "name": "python3"
  },
  "language_info": {
   "codemirror_mode": {
    "name": "ipython",
    "version": 3
   },
   "file_extension": ".py",
   "mimetype": "text/x-python",
   "name": "python",
   "nbconvert_exporter": "python",
   "pygments_lexer": "ipython3",
   "version": "3.12.7"
  },
  "widgets": {
   "application/vnd.jupyter.widget-state+json": {
    "state": {},
    "version_major": 2,
    "version_minor": 0
   }
  }
 },
 "nbformat": 4,
 "nbformat_minor": 5
}
