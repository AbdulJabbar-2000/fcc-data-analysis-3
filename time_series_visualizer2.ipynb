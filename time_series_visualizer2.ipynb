{
 "cells": [
  {
   "cell_type": "code",
   "execution_count": 1,
   "id": "8e983261-f1c4-4900-a570-118eb132207f",
   "metadata": {},
   "outputs": [
    {
     "data": {
      "text/plain": [
       "<function print(*args, sep=' ', end='\\n', file=None, flush=False)>"
      ]
     },
     "execution_count": 1,
     "metadata": {},
     "output_type": "execute_result"
    }
   ],
   "source": [
    "import pandas as pd\n",
    "import matplotlib.pyplot as plt\n",
    "import seaborn as sns\n",
    "from datetime import datetime\n",
    "\n",
    "# Import data\n",
    "df = pd.read_csv('fcc-forum-pageviews.csv', index_col='date', parse_dates=True)\n",
    "\n",
    "# Clean data\n",
    "df = df[\n",
    "    (df['value'] >= df['value'].quantile(0.025)) & \n",
    "    (df['value'] <= df['value'].quantile(0.975))\n",
    "]\n",
    "\n",
    "def draw_line_plot():\n",
    "    # Create figure\n",
    "    fig, ax = plt.subplots(figsize=(14,6))\n",
    "    ax.plot(df.index, df['value'], color='red', linewidth=1)\n",
    "    \n",
    "    # Set titles and labels\n",
    "    ax.set_title('Daily freeCodeCamp Forum Page Views 5/2016-12/2019')\n",
    "    ax.set_xlabel('Date')\n",
    "    ax.set_ylabel('Page Views')\n",
    "    \n",
    "    # Save and return figure\n",
    "    plt.close()\n",
    "    return fig\n",
    "\n",
    "def draw_bar_plot():\n",
    "    # Copy and modify data\n",
    "    df_bar = df.copy()\n",
    "    df_bar['year'] = df_bar.index.year\n",
    "    df_bar['month'] = df_bar.index.month_name()\n",
    "    \n",
    "    # Group and prepare data\n",
    "    df_bar = df_bar.groupby(['year', 'month'])['value'].mean().unstack()\n",
    "    months = ['January', 'February', 'March', 'April', 'May', 'June', \n",
    "              'July', 'August', 'September', 'October', 'November', 'December']\n",
    "    \n",
    "    # Plot\n",
    "    fig = df_bar[months].plot(kind='bar', figsize=(10,7)).figure\n",
    "    plt.xlabel('Years')\n",
    "    plt.ylabel('Average Page Views')\n",
    "    plt.legend(title='Months')\n",
    "    \n",
    "    # Save and return figure\n",
    "    plt.close()\n",
    "    return fig\n",
    "\n",
    "def draw_box_plot():\n",
    "    # Prepare data\n",
    "    df_box = df.copy()\n",
    "    df_box['year'] = df_box.index.year\n",
    "    df_box['month'] = df_box.index.strftime('%b')\n",
    "    \n",
    "    # Create subplots\n",
    "    fig, (ax1, ax2) = plt.subplots(1, 2, figsize=(18,6))\n",
    "    \n",
    "    # Yearly boxplot\n",
    "    sns.boxplot(x='year', y='value', data=df_box, ax=ax1)\n",
    "    ax1.set_title('Year-wise Box Plot (Trend)')\n",
    "    ax1.set_xlabel('Year')\n",
    "    ax1.set_ylabel('Page Views')\n",
    "    \n",
    "    # Monthly boxplot\n",
    "    month_order = ['Jan','Feb','Mar','Apr','May','Jun',\n",
    "                   'Jul','Aug','Sep','Oct','Nov','Dec']\n",
    "    sns.boxplot(x='month', y='value', data=df_box, order=month_order, ax=ax2)\n",
    "    ax2.set_title('Month-wise Box Plot (Seasonality)')\n",
    "    ax2.set_xlabel('Month')\n",
    "    ax2.set_ylabel('Page Views')\n",
    "    \n",
    "    # Save and return figure\n",
    "    plt.close()\n",
    "    return fig\n",
    "print\n"
   ]
  },
  {
   "cell_type": "code",
   "execution_count": null,
   "id": "0e15feaf-575d-4bba-9e88-1e16be264732",
   "metadata": {},
   "outputs": [],
   "source": []
  }
 ],
 "metadata": {
  "kernelspec": {
   "display_name": "Python 3 (ipykernel)",
   "language": "python",
   "name": "python3"
  },
  "language_info": {
   "codemirror_mode": {
    "name": "ipython",
    "version": 3
   },
   "file_extension": ".py",
   "mimetype": "text/x-python",
   "name": "python",
   "nbconvert_exporter": "python",
   "pygments_lexer": "ipython3",
   "version": "3.12.7"
  },
  "widgets": {
   "application/vnd.jupyter.widget-state+json": {
    "state": {},
    "version_major": 2,
    "version_minor": 0
   }
  }
 },
 "nbformat": 4,
 "nbformat_minor": 5
}
